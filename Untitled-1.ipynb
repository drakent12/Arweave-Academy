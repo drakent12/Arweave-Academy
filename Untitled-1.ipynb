{
 "cells": [
  {
   "cell_type": "markdown",
   "metadata": {},
   "source": [
    "git clone https://github.com/drakent12/Arweave-Academy.git"
   ]
  },
  {
   "cell_type": "code",
   "execution_count": null,
   "metadata": {},
   "outputs": [],
   "source": [
    "cd darkent12Arweave-Academy/submissions/"
   ]
  },
  {
   "cell_type": "code",
   "execution_count": null,
   "metadata": {
    "vscode": {
     "languageId": "plaintext"
    }
   },
   "outputs": [],
   "source": [
    "drakent12.md\n",
    "## Arweave Academy Personal File\n",
    "\n",
    "### Personal information\n",
    "\n",
    "- github account: drakent12\n",
    "- Email: saputragiar72@gmail.com\n",
    "- Arweave Address: 3pD6OnjCPrDpqiMG1L_2yUfxpvYYLB9AYDYrripaUkU\n",
    "- ETH Address: 0xFB2B55c62122EB6d8FC5121e7962E7119Ac321cF\n",
    "- Please finish this [form](https://docs.google.com/forms/d/e/1FAIpQLSfWA5fIIcBgmRppm3jNz5vmf9Mai_QMVil-2pO4r7YKn_Zhtw/viewform?usp=sf_link) to join in the talent pool.\n",
    "\n",
    "### Introduce Yourself\n",
    "i'am have biggest enthusiast in developing dApps in many chain in the web3 circle, im curently working a freelance in node developer, node runner, node operator etc\n",
    "git add .\n",
    "git commit -m \"drakent12\"\n",
    "git push origin main"
   ]
  }
 ],
 "metadata": {
  "language_info": {
   "name": "python"
  }
 },
 "nbformat": 4,
 "nbformat_minor": 2
}
